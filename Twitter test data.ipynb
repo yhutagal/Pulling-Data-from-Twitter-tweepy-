{
 "cells": [
  {
   "cell_type": "code",
   "execution_count": 1,
   "metadata": {},
   "outputs": [],
   "source": [
    "import tweepy"
   ]
  },
  {
   "cell_type": "code",
   "execution_count": 7,
   "metadata": {},
   "outputs": [],
   "source": [
    "api_key = 'ncxHUGIANG2J3rCluT8PDaGLw'\n",
    "api_key_secret = \"xOPLS6hcYF7d4VETJHvAj4DIaRSuGw0RnxOUmPUUD901wPwYVY\"\n",
    "access_token = \"998858703347462149-FN2woe03RSTXKHvkxckcHcwYP1HHSLn\"\n",
    "access_token_secret = '465Notu56W7dAyBs0OHVeWF8ZLEDpKvq7eSKMd6lvxR9Y'"
   ]
  },
  {
   "cell_type": "code",
   "execution_count": 8,
   "metadata": {},
   "outputs": [],
   "source": [
    "auth = tweepy.OAuthHandler (api_key,api_key_secret)"
   ]
  },
  {
   "cell_type": "code",
   "execution_count": 9,
   "metadata": {},
   "outputs": [],
   "source": [
    "auth.set_access_token (access_token,access_token_secret)"
   ]
  },
  {
   "cell_type": "code",
   "execution_count": 10,
   "metadata": {},
   "outputs": [],
   "source": [
    "#connect to API (new variable)\n",
    "api = tweepy.API(auth)"
   ]
  },
  {
   "cell_type": "code",
   "execution_count": 11,
   "metadata": {},
   "outputs": [],
   "source": [
    "#pull data based on twitter ID\n",
    "hasilUser = api.user_timeline(id='Jokowi', count=10) #count itu banyak jumlah tweet"
   ]
  },
  {
   "cell_type": "code",
   "execution_count": 12,
   "metadata": {},
   "outputs": [
    {
     "name": "stdout",
     "output_type": "stream",
     "text": [
      "Namun, aparat harus mengikuti aturan hukum, HAM, dan menggunakan kewenangannya secara wajar dan terukur.\n",
      "\n",
      "Jika terd… https://t.co/Hj81k6BWt4\n",
      "Masyarakat tidak boleh bertindak semena-mena dan melakukan perbuatan melanggar hukum yang merugikan masyarakat, apa… https://t.co/sMi52j9hyh\n",
      "Di tengah upaya kita menangani pandemi, terjadi peristiwa lain seperti tewasnya empat warga di Sigi dan enam anggot… https://t.co/8fRVLZkchy\n",
      "Pandemi ini belum berakhir. Mungkin ada rasa bosan. Mungkin ada kerinduan. Kepada teman-teman, kepada kerabat, kepa… https://t.co/7nNhzjR9Zf\n",
      "Suasana masih pandemi, tapi kehidupan tetap harus berjalan. Ada yang harus tetap bekerja dan bepergian. Jika terpak… https://t.co/I4bY8jcuiZ\n",
      "Pilkada serentak di 270 daerah pada 9 Desember ini menghadapi tantangan sendiri karena digelar di era pandemi. Sela… https://t.co/8WtmhuZq9d\n",
      "Terakhir, meski vaksin sudah ada, kita tetap harus disiplin menjalankan protokol kesehatan, memakai masker, menjaga… https://t.co/LJ8hmwF7y4\n",
      "Untuk memulai vaksinasi kita masih memerlukan tahapan yang ketat BPOM. Seluruh prosedur ilmiah harus dilalui dengan… https://t.co/Xl1NEmHfad\n",
      "Sebanyak 1,2 juta dosis vaksin Covid-19 buatan Sinovac tiba semalam. Bulan depan, Insya Allah akan datang 1,8 juta… https://t.co/xqtRXu7yIc\n",
      "Seorang pejabat negara seharusnya menciptakan sistem yang menutup celah terjadinya korupsi baik untuk APBN maupun A… https://t.co/ujlhqH0uyX\n"
     ]
    }
   ],
   "source": [
    "for tweet in hasilUser:\n",
    "    print(tweet.text)"
   ]
  },
  {
   "cell_type": "code",
   "execution_count": 13,
   "metadata": {},
   "outputs": [],
   "source": [
    "hasilSearch = api.search(q='Jakarta', langs='id', count=30)"
   ]
  },
  {
   "cell_type": "code",
   "execution_count": 15,
   "metadata": {},
   "outputs": [
    {
     "name": "stdout",
     "output_type": "stream",
     "text": [
      "KoppiSachetan TWEET RT @detikcom: Cafe Kilo Kitchen di Gunawarman, Jakarta Selatan, disegel polisi dan Satpol PP usai ditemukannya kasus narkoba saat aparat me…\n",
      "LC01L TWEET @mrchristwibowo Jakarta kan propinsi antah berantah. Gubernur nggak jelas, wakilnya nggak jelas .....\n",
      "Jadi harus diatur\n",
      "sama Pakde lagi\n",
      "MAlquraisy TWEET RT @GeMaCan_WB: Kemarahan rakyat KETAPANG...karena ditembaknya 6 shuhada FPI di polres ketapang..cc @Puspen_TNI @DPR_RI @PKSejahtera\n",
      "Sejak…\n",
      "mastri888 TWEET RT @TofaTofa_id: Sebarkan, agar pada tahu apa yg sebenernya terjadi. Makin banyak diberitakan, main terang. Jernih banget. https://t.co/QDt…\n",
      "raksasamedia TWEET sedang merecanakan event pameran jakarta? sewa ratusan tv kami untuk display produk anda. https://t.co/oeNkg7bnUk\n",
      "HambaAl37320305 TWEET RT @aniesbaswedan: Alhamdulillah, kerja bersama, kini tampak hasilnya. Senen kembali menjadi salah satu ikon Jakarta, tidak lagi dianggap k…\n",
      "CasperBeWin1 TWEET RT @GeMaCan_WB: Kemarahan rakyat KETAPANG...karena ditembaknya 6 shuhada FPI di polres ketapang..cc @Puspen_TNI @DPR_RI @PKSejahtera\n",
      "Sejak…\n",
      "DontcryindoKid TWEET RT @tvOneNews: Kapolda Dipanggil Komnas HAM, Dirut Jasamarga Bantah Kerusakan CCTV Jakarta-Cikampek | tvOne https://t.co/fazaZqThqt\n",
      "pritaspog TWEET RT @HudSuharg: @pritaspog belum berani ke jakarta ..udah setahun nggak kesana pasti luar biasa kemajuan nya selamat @aniesbaswedan pak Gube…\n",
      "KuasQQ TWEET #SitusPokerOnline #JudiOnlineTerpercaya #CapsaSusun #PokerResmi\n",
      "#BandarQ #Domino #Poker #SakongOnline… https://t.co/2TrYdiMRzk\n",
      "setiawanelan TWEET RT @aniesbaswedan: Alhamdulillah, kerja bersama, kini tampak hasilnya. Senen kembali menjadi salah satu ikon Jakarta, tidak lagi dianggap k…\n",
      "AndraEka75 TWEET RT @tempodotco: Indonesia Police Watch meminta Mabes Polri mengakui ada pelanggaran standar operasional prosedur (SOP) dalam insiden kemati…\n",
      "LC01L TWEET RT @KMarmowidodo: @mrchristwibowo Patroli besar2an utk memastikan keamanan di jkt\n",
      "\n",
      "https://t.co/SC5Rw4A3w5\n",
      "denny_hotelier TWEET RT @anandasukarlan: Maju terus and don't give a f*** , @psi_id @PSI_Jakarta @AntoniRaja @IsyanaBagoesOka ! https://t.co/LGLj6ODMCl\n",
      "nabillashemale9 TWEET •Open BO - VCS \n",
      "wajib dp . acc paypal\n",
      "\n",
      "📍 JAKARTA BARAT\n",
      "📱WA: +6281291664942\n",
      " ➡️ line nabilashemale9999\n",
      "@jockosrocket… https://t.co/Tm9uKpmzHq\n",
      "terasmedan1 TWEET Terasmedan – Rekonstruksi penembakan enam anggota FPI di jalan Tol Jakarta-Cikampek Kilometer 50 dilaksanakan di em… https://t.co/psOChlT9A8\n",
      "kumparan TWEET Korban pengeroyokan itu terluka dan harus dirawat di rumah sakit. #kumparanNEWS https://t.co/sCmtF5Qs3K\n",
      "MFacerock TWEET @CopingMAGA See I found these funny until I read The Jakarta Method. Now, not so much.\n",
      "Gandi06430393 TWEET RT @tempodotco: Indonesia Police Watch meminta Mabes Polri mengakui ada pelanggaran standar operasional prosedur (SOP) dalam insiden kemati…\n",
      "dki_warga TWEET RT @FerdinandHaean3: Patroli Skala Besar POLRI - TNI dipimpin oleh Bapak Kapolda Irjen Pol Fadil dan Pangdam Jaya Mayjend Dudung\n",
      "\n",
      "Jakarta A…\n",
      "KenaiGroup TWEET Barang sampai Jakarta dengan selamat :D #TestiKenai https://t.co/6pYJYpaoBM\n",
      "RT_Salsabiil_QF TWEET RT @mwv_mystic: \"..Ditengah percikan air hujan yang mengguyur Jakarta senja itu, ditengah hiruk pikuk calon penumpang yang berlalu lalang..…\n",
      "zaul_zaki TWEET RT @aniesbaswedan: Alhamdulillah, kerja bersama, kini tampak hasilnya. Senen kembali menjadi salah satu ikon Jakarta, tidak lagi dianggap k…\n",
      "BrandsYourMind TWEET Tukang pasang Sticker Mobil Branding https://t.co/I5KOGrVpBE #jakarta #tangerang #banten\n",
      "AimanJudakusum1 TWEET RT @DivHumas_Polri: Total 58 Adegan Saat Rekonstruksi Secara Transparan di Tol Cikampek \n",
      "\n",
      "Kepolisian Negara Republik Indonesia (Polri) meng…\n",
      "eniskanen TWEET @KorpinenLaura @edvpml Se on kumma, että kaikissa länsimaailman metropoleissa kävelykeskustat kukoistavat, mutta it… https://t.co/frZa8q8rXH\n",
      "flair_cocktails TWEET Os presento mi cocktail para Bobby's Gin Competition 2020\n",
      "(Jaime Añón/Flair&amp;Cocktails) \n",
      "\n",
      "\"From Jakarta with Love\"… https://t.co/LE2ssPO19K\n",
      "HaikalZamzami3 TWEET RT @korantempo: Kepingan-kepingan fakta di seputar terbunuhnya enam pengawal Rizieq Syihab, Senin dinihari lalu, mulai terbentuk: sejumlah…\n",
      "studios_toffee TWEET NEW VIDEO OUT TODAY, HOW TO GET KINEMASTER PREMIUM FOR FREE!!!\n",
      "\n",
      "Video Timings⌚️\n",
      "\n",
      "LONDON-21:00\n",
      "PARIS-22:00\n",
      "AMSTERDAM… https://t.co/Kc3rpTU8rE\n",
      "arga_wisastra TWEET RT @Toperendusara1: Warga Jakarta mengucapkan terima kasih kepada seluruh fraksi yang meninggalkan ruangan. Begitulah selayaknya manusia2 m…\n"
     ]
    }
   ],
   "source": [
    "for tweet in hasilSearch:\n",
    "    print(tweet.user.screen_name, 'TWEET',tweet.text)"
   ]
  },
  {
   "cell_type": "code",
   "execution_count": null,
   "metadata": {},
   "outputs": [],
   "source": []
  }
 ],
 "metadata": {
  "kernelspec": {
   "display_name": "Python 3",
   "language": "python",
   "name": "python3"
  },
  "language_info": {
   "codemirror_mode": {
    "name": "ipython",
    "version": 3
   },
   "file_extension": ".py",
   "mimetype": "text/x-python",
   "name": "python",
   "nbconvert_exporter": "python",
   "pygments_lexer": "ipython3",
   "version": "3.8.6"
  }
 },
 "nbformat": 4,
 "nbformat_minor": 4
}
